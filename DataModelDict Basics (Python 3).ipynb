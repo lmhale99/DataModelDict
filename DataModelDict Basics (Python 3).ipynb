{
 "cells": [
  {
   "cell_type": "markdown",
   "metadata": {
    "deletable": true,
    "editable": true
   },
   "source": [
    "# DataModelDict Class Demonstration\n",
    "\n",
    "The DataModelDict class is used for handling data models that have equivalent representations in XML, JSON, and Python.  Constructing data models in this way is convenient as it supports compatibility across different software tools, such as different types of databases.\n",
    "\n",
    "The DataModelDict class:\n",
    "\n",
    "- is a child of OrderedDict,\n",
    "- has methods for converting to/from XML and JSON, \n",
    "- has methods for searching through elements, and\n",
    "- has methods that help with constructing and interacting with compliant data models.\n",
    "\n",
    "## Designing Compatible Data Models\n",
    "\n",
    "Some considerations need to be taken into account for designing data models that allow for exact reversible transformations between the three formats:\n",
    "\n",
    "- Valid, full XML requires that there is exactly one root element.  In other words, the top-level DataModelDict of a data model   can have only one key.\n",
    "- Do not use lists of lists for representing data.  The XML conversions are only reversible for lists of values or lists of    \n",
    "  dictionaries.  Future updates may allow this.\n",
    "- Avoid using XML attributes if possible.  While the XML conversions do reversibly handle attributes, it complicates the Python\n",
    "  and JSON representations.\n",
    "- Embedded XML content, i.e. \"text with &lt;embed&gt;embedded&lt;/embed&gt; content\", might not be reversible:\n",
    "\n",
    "    - If this is in a Python/JSON value, converting to XML gives \"text with &amp;lt;embed&amp;gt;embedded&amp;lt;/embed&amp;gt; content\". This is reversible.\n",
    "    - If this is an XML text field, parsing to Python pulls the embedded elements out of the text, which is not reversible!\n",
    "\n",
    "- XML subelements of the same name within an element should be given consecutively.  When parsed, all values of subelements of the same name are collected together in a list.  This will alter the original order of subelements if matching names were not originally consecutive. "
   ]
  },
  {
   "cell_type": "markdown",
   "metadata": {
    "deletable": true,
    "editable": true
   },
   "source": [
    "#### Library imports"
   ]
  },
  {
   "cell_type": "code",
   "execution_count": 1,
   "metadata": {
    "collapsed": false,
    "deletable": true,
    "editable": true
   },
   "outputs": [
    {
     "name": "stdout",
     "output_type": "stream",
     "text": [
      "DataModelDict version = 0.9.2\n"
     ]
    }
   ],
   "source": [
    "# Standard Python libraries\n",
    "from __future__ import print_function, division\n",
    "import os\n",
    "import random\n",
    "\n",
    "# DataModelDict class\n",
    "# https://github.com/usnistgov/DataModelDict\n",
    "from DataModelDict import DataModelDict as DM\n",
    "\n",
    "# Print DataModelDict version\n",
    "import DataModelDict\n",
    "print('DataModelDict version =', DataModelDict.__version__)"
   ]
  },
  {
   "cell_type": "markdown",
   "metadata": {
    "deletable": true,
    "editable": true
   },
   "source": [
    "## 1. Class Basics \n",
    "\n",
    "The DataModelDict is a child class of OrderedDict.  As such, is has all the functionality of OrderedDict and more.\n",
    "\n",
    "Here, we construct a multi-level demonstration data model using lists and DataModelDicts."
   ]
  },
  {
   "cell_type": "code",
   "execution_count": 2,
   "metadata": {
    "collapsed": false,
    "deletable": true,
    "editable": true
   },
   "outputs": [],
   "source": [
    "# Create an empty DataModel\n",
    "model = DM()\n",
    "\n",
    "# Build model element by element\n",
    "model['my-data-model'] = DM()\n",
    "\n",
    "model['my-data-model']['name'] = 'Demo'\n",
    "model['my-data-model']['author'] = 'Me'\n",
    "\n",
    "model['my-data-model']['process'] = DM()\n",
    "model['my-data-model']['process']['Instrument'] = DM()\n",
    "model['my-data-model']['process']['Instrument']['Name'] = 'Shiny Thing'\n",
    "model['my-data-model']['process']['Instrument']['Model'] = 'Newest Most\\nExpensive'\n",
    "model['my-data-model']['process']['method'] = 'By the book'\n",
    "\n",
    "# Assign multiple elements at once\n",
    "model['my-data-model']['measurement'] = []\n",
    "for temperature in range(0, 2000, 200):\n",
    "    measurement = DM([('temperature', DM([('value', temperature),                    \n",
    "                                          ('unit', 'K')])),\n",
    "                      ('length',      DM([('value', temperature*random.random()/50), \n",
    "                                          ('unit', 'm')]))])\n",
    "    model['my-data-model']['measurement'].append(measurement) "
   ]
  },
  {
   "cell_type": "markdown",
   "metadata": {
    "deletable": true,
    "editable": true
   },
   "source": [
    "## 2. Output Conversion\n",
    "\n",
    "DataModelDict has methods json() and xml() that return the data model as either of these formats. "
   ]
  },
  {
   "cell_type": "markdown",
   "metadata": {
    "deletable": true,
    "editable": true
   },
   "source": [
    "### Conversion from Python to JSON\n",
    "\n",
    "The Python-JSON conversions use the standard Python JSON library.  In converting from Python to JSON, all elements of the DataModelDict must be an instance of a supported data type (with unicode and long being specific to Python 2).\n",
    "\n",
    "\n",
    "| Python           | JSON      |\n",
    "| ---------------- | --------- |\n",
    "| dict             | object    |\n",
    "| list, tuple      | array     |\n",
    "| str, unicode     | string    |\n",
    "| int, long, float | number    |\n",
    "| True             | true      |\n",
    "| False            | false     |\n",
    "| None             | null      |\n",
    "| np.nan           | NaN       |\n",
    "| np.inf           | Infinity  |\n",
    "| -np.inf          | -Infinity |\n",
    "\n",
    "\n",
    "As DataModelDict is a child of OrderedDict, it registers as being an instance of dict. Any other objects would first need to be converted to one of these types, e.g. a numpy array would need to be converted to a list. "
   ]
  },
  {
   "cell_type": "code",
   "execution_count": 3,
   "metadata": {
    "collapsed": false,
    "deletable": true,
    "editable": true
   },
   "outputs": [
    {
     "name": "stdout",
     "output_type": "stream",
     "text": [
      "{\n",
      "  \"my-data-model\": {\n",
      "    \"name\": \"Demo\", \n",
      "    \"author\": \"Me\", \n",
      "    \"process\": {\n",
      "      \"Instrument\": {\n",
      "        \"Name\": \"Shiny Thing\", \n",
      "        \"Model\": \"Newest Most\\nExpensive\"\n",
      "      }, \n",
      "      \"method\": \"By the book\"\n",
      "    }, \n",
      "    \"measurement\": [\n",
      "      {\n",
      "        \"temperature\": {\n",
      "          \"value\": 0, \n",
      "          \"unit\": \"K\"\n",
      "        }, \n",
      "        \"length\": {\n",
      "          \"value\": 0.0, \n",
      "          \"unit\": \"m\"\n",
      "        }\n",
      "      }, \n",
      "      {\n",
      "        \"temperature\": {\n",
      "          \"value\": 200, \n",
      "          \"unit\": \"K\"\n",
      "        }, \n",
      "        \"length\": {\n",
      "          \"value\": 3.503408529019528, \n",
      "          \"unit\": \"m\"\n",
      "        }\n",
      "      }, \n",
      "      {\n",
      "        \"temperature\": {\n",
      "          \"value\": 400, \n",
      "          \"unit\": \"K\"\n",
      "        }, \n",
      "        \"length\": {\n",
      "          \"value\": 2.0722318138461935, \n",
      "          \"unit\": \"m\"\n",
      "        }\n",
      "      }, \n",
      "      {\n",
      "        \"temperature\": {\n",
      "          \"value\": 600, \n",
      "          \"unit\": \"K\"\n",
      "        }, \n",
      "        \"length\": {\n",
      "          \"value\": 4.773601968546896, \n",
      "          \"unit\": \"m\"\n",
      "        }\n",
      "      }, \n",
      "      {\n",
      "        \"temperature\": {\n",
      "          \"value\": 800, \n",
      "          \"unit\": \"K\"\n",
      "        }, \n",
      "        \"length\": {\n",
      "          \"value\": 15.366069754481797, \n",
      "          \"unit\": \"m\"\n",
      "        }\n",
      "      }, \n",
      "      {\n",
      "        \"temperature\": {\n",
      "          \"value\": 1000, \n",
      "          \"unit\": \"K\"\n",
      "        }, \n",
      "        \"length\": {\n",
      "          \"value\": 3.0450459735434943, \n",
      "          \"unit\": \"m\"\n",
      "        }\n",
      "      }, \n",
      "      {\n",
      "        \"temperature\": {\n",
      "          \"value\": 1200, \n",
      "          \"unit\": \"K\"\n",
      "        }, \n",
      "        \"length\": {\n",
      "          \"value\": 12.588473994343902, \n",
      "          \"unit\": \"m\"\n",
      "        }\n",
      "      }, \n",
      "      {\n",
      "        \"temperature\": {\n",
      "          \"value\": 1400, \n",
      "          \"unit\": \"K\"\n",
      "        }, \n",
      "        \"length\": {\n",
      "          \"value\": 1.079812297141964, \n",
      "          \"unit\": \"m\"\n",
      "        }\n",
      "      }, \n",
      "      {\n",
      "        \"temperature\": {\n",
      "          \"value\": 1600, \n",
      "          \"unit\": \"K\"\n",
      "        }, \n",
      "        \"length\": {\n",
      "          \"value\": 7.264976308092109, \n",
      "          \"unit\": \"m\"\n",
      "        }\n",
      "      }, \n",
      "      {\n",
      "        \"temperature\": {\n",
      "          \"value\": 1800, \n",
      "          \"unit\": \"K\"\n",
      "        }, \n",
      "        \"length\": {\n",
      "          \"value\": 6.332458777387047, \n",
      "          \"unit\": \"m\"\n",
      "        }\n",
      "      }\n",
      "    ]\n",
      "  }\n",
      "}\n"
     ]
    }
   ],
   "source": [
    "# Save DataModelDict as json file by setting fp = file-like object\n",
    "with open('model.json', 'w') as f:\n",
    "    model.json(fp=f)\n",
    "\n",
    "# Print the DataModelDict as a json string. \n",
    "# Setting an indent value adds newlines and line indentations\n",
    "print(model.json(indent=2))"
   ]
  },
  {
   "cell_type": "markdown",
   "metadata": {
    "deletable": true,
    "editable": true
   },
   "source": [
    "### Conversion from Python to XML\n",
    "\n",
    "The Python-XML conversions use the xmltodict Python package. The XML content is constructed based on the Python data types \n",
    "\n",
    "| Python           | XML              |\n",
    "| ---------------- | ---------------- |\n",
    "| dict             | subelement       |\n",
    "| list, tuple      | repeated element |\n",
    "| str, unicode     | text             |\n",
    "| int, long, float | text (from repr) |\n",
    "| True             | text = True      |\n",
    "| False            | text = False     |\n",
    "| None             | empty text field |\n",
    "| np.nan           | text = NaN       |\n",
    "| np.inf           | text = Infinity  |\n",
    "| -np.inf          | text = -Infinity |\n",
    "\n",
    "Some characters in the XML text fields will also be converted to avoid conflicts.\n",
    "\n",
    "- XML limited characters such as &lt;, &gt; and &amp; are converted to their HTML entities.\n",
    "- \\n, \\t, \\r are converted to \\\\\\n, \\\\\\t, and \\\\\\r \n",
    "\n",
    "Any dictionary keys starting with '@' will be converted into XML attributes, and the dictionary key '#text' is interpreted as the text value of the element. "
   ]
  },
  {
   "cell_type": "code",
   "execution_count": 4,
   "metadata": {
    "collapsed": false,
    "deletable": true,
    "editable": true
   },
   "outputs": [
    {
     "name": "stdout",
     "output_type": "stream",
     "text": [
      "<?xml version=\"1.0\" encoding=\"utf-8\"?>\n",
      "<my-data-model>\n",
      "    <name>Demo</name>\n",
      "    <author>Me</author>\n",
      "    <process>\n",
      "        <Instrument>\n",
      "            <Name>Shiny Thing</Name>\n",
      "            <Model>Newest Most\\nExpensive</Model>\n",
      "        </Instrument>\n",
      "        <method>By the book</method>\n",
      "    </process>\n",
      "    <measurement>\n",
      "        <temperature>\n",
      "            <value>0</value>\n",
      "            <unit>K</unit>\n",
      "        </temperature>\n",
      "        <length>\n",
      "            <value>0.0</value>\n",
      "            <unit>m</unit>\n",
      "        </length>\n",
      "    </measurement>\n",
      "    <measurement>\n",
      "        <temperature>\n",
      "            <value>200</value>\n",
      "            <unit>K</unit>\n",
      "        </temperature>\n",
      "        <length>\n",
      "            <value>3.503408529019528</value>\n",
      "            <unit>m</unit>\n",
      "        </length>\n",
      "    </measurement>\n",
      "    <measurement>\n",
      "        <temperature>\n",
      "            <value>400</value>\n",
      "            <unit>K</unit>\n",
      "        </temperature>\n",
      "        <length>\n",
      "            <value>2.0722318138461935</value>\n",
      "            <unit>m</unit>\n",
      "        </length>\n",
      "    </measurement>\n",
      "    <measurement>\n",
      "        <temperature>\n",
      "            <value>600</value>\n",
      "            <unit>K</unit>\n",
      "        </temperature>\n",
      "        <length>\n",
      "            <value>4.773601968546896</value>\n",
      "            <unit>m</unit>\n",
      "        </length>\n",
      "    </measurement>\n",
      "    <measurement>\n",
      "        <temperature>\n",
      "            <value>800</value>\n",
      "            <unit>K</unit>\n",
      "        </temperature>\n",
      "        <length>\n",
      "            <value>15.366069754481797</value>\n",
      "            <unit>m</unit>\n",
      "        </length>\n",
      "    </measurement>\n",
      "    <measurement>\n",
      "        <temperature>\n",
      "            <value>1000</value>\n",
      "            <unit>K</unit>\n",
      "        </temperature>\n",
      "        <length>\n",
      "            <value>3.0450459735434943</value>\n",
      "            <unit>m</unit>\n",
      "        </length>\n",
      "    </measurement>\n",
      "    <measurement>\n",
      "        <temperature>\n",
      "            <value>1200</value>\n",
      "            <unit>K</unit>\n",
      "        </temperature>\n",
      "        <length>\n",
      "            <value>12.588473994343902</value>\n",
      "            <unit>m</unit>\n",
      "        </length>\n",
      "    </measurement>\n",
      "    <measurement>\n",
      "        <temperature>\n",
      "            <value>1400</value>\n",
      "            <unit>K</unit>\n",
      "        </temperature>\n",
      "        <length>\n",
      "            <value>1.079812297141964</value>\n",
      "            <unit>m</unit>\n",
      "        </length>\n",
      "    </measurement>\n",
      "    <measurement>\n",
      "        <temperature>\n",
      "            <value>1600</value>\n",
      "            <unit>K</unit>\n",
      "        </temperature>\n",
      "        <length>\n",
      "            <value>7.264976308092109</value>\n",
      "            <unit>m</unit>\n",
      "        </length>\n",
      "    </measurement>\n",
      "    <measurement>\n",
      "        <temperature>\n",
      "            <value>1800</value>\n",
      "            <unit>K</unit>\n",
      "        </temperature>\n",
      "        <length>\n",
      "            <value>6.332458777387047</value>\n",
      "            <unit>m</unit>\n",
      "        </length>\n",
      "    </measurement>\n",
      "</my-data-model>\n"
     ]
    }
   ],
   "source": [
    "# Save DataModelDict as xml file by setting fp = file-like object\n",
    "with open('model.xml', 'w') as f:\n",
    "    model.xml(fp=f)\n",
    "\n",
    "# Print the DataModelDict as an xml string. \n",
    "# Setting an indent value adds newlines and line indentations\n",
    "print(model.xml(indent=4))"
   ]
  },
  {
   "cell_type": "markdown",
   "metadata": {
    "deletable": true,
    "editable": true
   },
   "source": [
    "## 3. Loading Data Models\n",
    "\n",
    "DataModelDict has a load() method that reads in xml or json content. The class initilizer also calls load() if the argument is a string or file-like object. Both work if the supplied argument is:\n",
    "\n",
    "- a string directory path to an xml or json file.\n",
    "\n",
    "- a string containing xml or json content.\n",
    "\n",
    "- an open file-like object containing xml or json content.\n",
    "\n",
    "\n",
    "### Conversion from JSON to Python\n",
    "\n",
    "The Python-JSON conversions use the standard Python JSON library.  In converting from JSON to Python, the conversions of types is straight-forward.\n",
    "\n",
    "| JSON          | Python 2      | Python 3      |\n",
    "| ------------- | ------------- | ------------- |\n",
    "| object        | DataModelDict | DataModelDict |\n",
    "| array         | list          | list          |\n",
    "| string        | unicode       | str           |\n",
    "| number (int)  | long          | int           |\n",
    "| number (real) | float         | float         |\n",
    "| true          | True          | True          |\n",
    "| false         | False         | False         |\n",
    "| null          | None          | None          |\n",
    "| NaN           | np.nan        | np.nan        |\n",
    "| Infinity      | np.inf        | np.inf        |\n",
    "| -Infinity     | -np.inf       | -np.inf       |\n",
    "\n",
    "### Conversion from XML to Python\n",
    "\n",
    "The Python-XML conversions use the xmltodict Python package.  The text fields will be interpreted based on the following sequential tests:\n",
    "\n",
    "| XML text         | Python 2 | Python 3 |\n",
    "| ---------------- | -------- | -------- |\n",
    "| == 'True'        | True     | True     |\n",
    "| == 'False'       | False    | False    |\n",
    "| == ''            | None     | None     |\n",
    "| == 'NaN'         | np.nan   | np.nan   |\n",
    "| == 'Infinity'    | np.inf   | np.inf   |\n",
    "| == '-Infinity'   | -np.inf  | -np.inf  |\n",
    "| try: int(text)   | long     | int      |\n",
    "| try: float(text) | float    | float    |\n",
    "| otherwise        | unicode  | str      |\n",
    "\n",
    "The reverse conversions are done for the special characters mentioned in the Conversion from Python to XML section above.\n",
    "\n",
    "Any 'attr' attribute fields are converted to elements named '@attr' and corresponding '#text' elements are created if needed."
   ]
  },
  {
   "cell_type": "code",
   "execution_count": 5,
   "metadata": {
    "collapsed": false,
    "deletable": true,
    "editable": true
   },
   "outputs": [
    {
     "name": "stdout",
     "output_type": "stream",
     "text": [
      "True\n"
     ]
    }
   ],
   "source": [
    "# Load from xml file during initilization\n",
    "model2 = DM('model.xml')\n",
    "    \n",
    "# Test that models are equivalent# Load from json file using load()\n",
    "model2 = DM()\n",
    "model2.load('model.json')\n",
    "    \n",
    "# Test that models are equivalent\n",
    "print(model.json() == model2.json() and model.xml()  == model2.xml())"
   ]
  },
  {
   "cell_type": "code",
   "execution_count": 6,
   "metadata": {
    "collapsed": false,
    "deletable": true,
    "editable": true
   },
   "outputs": [
    {
     "name": "stdout",
     "output_type": "stream",
     "text": [
      "True\n"
     ]
    }
   ],
   "source": [
    "# Load from json file using load()\n",
    "model2 = DM()\n",
    "model2.load('model.json')\n",
    "    \n",
    "# Test that models are equivalent\n",
    "print(model.json() == model2.json() and model.xml()  == model2.xml())"
   ]
  },
  {
   "cell_type": "code",
   "execution_count": 7,
   "metadata": {
    "collapsed": false,
    "deletable": true,
    "editable": true
   },
   "outputs": [
    {
     "name": "stdout",
     "output_type": "stream",
     "text": [
      "True\n"
     ]
    }
   ],
   "source": [
    "# Load from json string during initilization\n",
    "json_string = model.json()\n",
    "model2 = DM(json_string)\n",
    "    \n",
    "# Test that models are equivalent\n",
    "print(model.json() == model2.json() and model.xml()  == model2.xml())"
   ]
  },
  {
   "cell_type": "code",
   "execution_count": 8,
   "metadata": {
    "collapsed": false,
    "deletable": true,
    "editable": true
   },
   "outputs": [
    {
     "name": "stdout",
     "output_type": "stream",
     "text": [
      "True\n"
     ]
    }
   ],
   "source": [
    "# Load from xml string using load()\n",
    "xml_string = model.xml()\n",
    "model2 = DM()       \n",
    "model2.load(xml_string)\n",
    "\n",
    "#test that models are equivalent\n",
    "print(model.json() == model2.json() and model.xml()  == model2.xml())"
   ]
  },
  {
   "cell_type": "markdown",
   "metadata": {
    "deletable": true,
    "editable": true
   },
   "source": [
    "## 4. Finding and Accessing Elements\n",
    "\n",
    "A number of methods have been added to DataModelDict to assist in finding, accessing, and modifying the various elements and subelements of a data model."
   ]
  },
  {
   "cell_type": "markdown",
   "metadata": {
    "deletable": true,
    "editable": true
   },
   "source": [
    "### 4.1 Index with path lists\n",
    "\n",
    "Normally, accessing or setting the values contained in a data model consisting of tiered dictionaries and lists requires knowing the full path list beforehand.  This can be tedious and requires that the programmer hard-code the absolute path of any elements of interest.  To improve upon this, values contained in a DataModelDict can be accessed using a _path list_ consisting of a list of indicies.  The terms in the list can be either dictionary keys or list indicies."
   ]
  },
  {
   "cell_type": "code",
   "execution_count": 9,
   "metadata": {
    "collapsed": false,
    "deletable": true,
    "editable": true
   },
   "outputs": [
    {
     "name": "stdout",
     "output_type": "stream",
     "text": [
      "Shiny Thing\n",
      "Shiny Thing\n"
     ]
    }
   ],
   "source": [
    "# Use indexing to retrieve the instrument name in the standard way\n",
    "print(model['my-data-model']['process']['Instrument']['Name'])\n",
    "\n",
    "# Use path list indexing to retrieve the instrument name\n",
    "path = ['my-data-model', 'process', 'Instrument', 'Name']\n",
    "print(model[path])"
   ]
  },
  {
   "cell_type": "markdown",
   "metadata": {
    "deletable": true,
    "editable": true
   },
   "source": [
    "### 4.2 Find value(s) with key\n",
    "\n",
    "If you know the key for an element you are interested in but don't know where it is located in the data model, you can access the element's value using the find() and finds() methods.  find() will return a value if the search produces a unique result, and issue an error if no match or multiple matches are found.  finds() returns a list of all values obtained by the search conditions."
   ]
  },
  {
   "cell_type": "code",
   "execution_count": 10,
   "metadata": {
    "collapsed": false,
    "deletable": true,
    "editable": true
   },
   "outputs": [
    {
     "name": "stdout",
     "output_type": "stream",
     "text": [
      "Shiny Thing\n"
     ]
    }
   ],
   "source": [
    "# I know the instrument name is the only element with the key Name\n",
    "print(model.find('Name'))"
   ]
  },
  {
   "cell_type": "code",
   "execution_count": 11,
   "metadata": {
    "collapsed": false,
    "deletable": true,
    "editable": true
   },
   "outputs": [
    {
     "name": "stdout",
     "output_type": "stream",
     "text": [
      "10 measurements found, with first measurement being:\n",
      "{\n",
      "  \"temperature\": {\n",
      "    \"value\": 0, \n",
      "    \"unit\": \"K\"\n",
      "  }, \n",
      "  \"length\": {\n",
      "    \"value\": 0.0, \n",
      "    \"unit\": \"m\"\n",
      "  }\n",
      "}\n"
     ]
    }
   ],
   "source": [
    "# I want a list of all the measurement elements\n",
    "measurements = model.finds('measurement')\n",
    "\n",
    "print(len(measurements), \"measurements found, with first measurement being:\")\n",
    "print(measurements[0].json(indent=2))"
   ]
  },
  {
   "cell_type": "markdown",
   "metadata": {
    "deletable": true,
    "editable": true
   },
   "source": [
    "Both find() and finds() allow for additional search conditions using dictionary arguments _yes_ and _no_.  Any key-value pairs listed in _yes_ must be found in the element in order for it to be considered a match.  If any key-value pairs listed in _no_ are found in the element, then it is rejected.  "
   ]
  },
  {
   "cell_type": "code",
   "execution_count": 12,
   "metadata": {
    "collapsed": false,
    "deletable": true,
    "editable": true
   },
   "outputs": [
    {
     "name": "stdout",
     "output_type": "stream",
     "text": [
      "7.264976308092109\n",
      "9 measurements found that don't have temperature = 800\n"
     ]
    }
   ],
   "source": [
    "#I want only the length from the measurement with temperature equal to 1600  \n",
    "temp = DM([('value',1600), ('unit', 'K')])\n",
    "\n",
    "print(model.find('measurement', yes={'temperature':temp})['length']['value'])\n",
    "\n",
    "#I want all measurements except for when temperature equals 800\n",
    "temp = DM([('value',800), ('unit', 'K')])\n",
    "\n",
    "measurements = model.finds('measurement', no={'temperature':temp})\n",
    "print(len(measurements), \"measurements found that don't have temperature = 800\")"
   ]
  },
  {
   "cell_type": "markdown",
   "metadata": {
    "deletable": true,
    "editable": true
   },
   "source": [
    "### 4.3 Find path(s) with key\n",
    "\n",
    "Alternatively, if you want to learn the full path to any elements in unknown locations, you can use the path() and paths() methods.  These behave similarly to find() and finds(), but return path lists instead of values."
   ]
  },
  {
   "cell_type": "code",
   "execution_count": 13,
   "metadata": {
    "collapsed": false,
    "deletable": true,
    "editable": true
   },
   "outputs": [
    {
     "name": "stdout",
     "output_type": "stream",
     "text": [
      "['my-data-model', 'process', 'Instrument', 'Name']\n",
      "Shiny Thing\n"
     ]
    }
   ],
   "source": [
    "# I know the instrument name is the only element with the key Name\n",
    "path = model.path('Name')\n",
    "print(path)\n",
    "print(model[path])"
   ]
  },
  {
   "cell_type": "markdown",
   "metadata": {
    "deletable": true,
    "editable": true
   },
   "source": [
    "The path() and paths() methods also allow for yes and no dictionaries to be used as arguments."
   ]
  },
  {
   "cell_type": "code",
   "execution_count": 14,
   "metadata": {
    "collapsed": false,
    "deletable": true,
    "editable": true
   },
   "outputs": [
    {
     "name": "stdout",
     "output_type": "stream",
     "text": [
      "['my-data-model', 'measurement', 0]\n",
      "['my-data-model', 'measurement', 1]\n",
      "['my-data-model', 'measurement', 2]\n",
      "['my-data-model', 'measurement', 3]\n",
      "['my-data-model', 'measurement', 5]\n",
      "['my-data-model', 'measurement', 6]\n",
      "['my-data-model', 'measurement', 7]\n",
      "['my-data-model', 'measurement', 8]\n",
      "['my-data-model', 'measurement', 9]\n"
     ]
    }
   ],
   "source": [
    "measurement_paths = model.paths('measurement', no={'temperature':temp})\n",
    "for path in measurement_paths:\n",
    "    print(path)    "
   ]
  },
  {
   "cell_type": "markdown",
   "metadata": {
    "deletable": true,
    "editable": true
   },
   "source": [
    "## 5. Treatment of Unbounded Sequences\n",
    "\n",
    "When converting from XML there is some ambiguity associated with sequences.  The normal parsing method will convert sequences with one element to single values, and sequences with multiple elements to lists.  To help with this, DataModelDict has a couple methods that allow for the handling of elements that may or may not be lists.\n",
    "\n",
    "The append() method allows for a key-value pair to be added to the DataModelDict.  If the key doesn't already exist, then it is assigned like a regular dictionary.  If the key does exist, the current value is converted into a list if it isn't one and the new value is appended.\n",
    "\n",
    "The aslist() method returns the value(s) associated with a dictionary key as a list, even if it isn't one."
   ]
  },
  {
   "cell_type": "code",
   "execution_count": 15,
   "metadata": {
    "collapsed": false,
    "deletable": true,
    "editable": true
   },
   "outputs": [
    {
     "name": "stdout",
     "output_type": "stream",
     "text": [
      "model['my-data-model'].get('ordinal', None) ->None\n",
      "model['my-data-model'].aslist('ordinal') ->   []\n",
      "\n",
      "model['my-data-model'].append('ordinal', 'first')\n",
      "model['my-data-model'].get('ordinal', None) ->first\n",
      "model['my-data-model'].aslist('ordinal') ->   ['first']\n",
      "\n",
      "model['my-data-model'].append('ordinal', 'second')\n",
      "model['my-data-model'].get('ordinal', None) ->['first', 'second']\n",
      "model['my-data-model'].aslist('ordinal') ->   ['first', 'second']\n",
      "\n",
      "model['my-data-model'].append('ordinal', 'third')\n",
      "model['my-data-model'].get('ordinal', None) ->['first', 'second', 'third']\n",
      "model['my-data-model'].aslist('ordinal') ->   ['first', 'second', 'third']\n"
     ]
    }
   ],
   "source": [
    "# Check element value and aslist before key is assigned\n",
    "print(\"model['my-data-model'].get('ordinal', None) ->\", end='') \n",
    "print(model['my-data-model'].get('ordinal', None)) \n",
    "print(\"model['my-data-model'].aslist('ordinal') ->   \", end='') \n",
    "print(model['my-data-model'].aslist('ordinal')) \n",
    "print() \n",
    "\n",
    "# Append a value and check again\n",
    "print(\"model['my-data-model'].append('ordinal', 'first')\")\n",
    "model['my-data-model'].append('ordinal', 'first')\n",
    "\n",
    "print(\"model['my-data-model'].get('ordinal', None) ->\", end='') \n",
    "print(model['my-data-model'].get('ordinal', None))\n",
    "print(\"model['my-data-model'].aslist('ordinal') ->   \", end='') \n",
    "print(model['my-data-model'].aslist('ordinal'))\n",
    "print() \n",
    "\n",
    "# Append a value and check again\n",
    "print(\"model['my-data-model'].append('ordinal', 'second')\")\n",
    "model['my-data-model'].append('ordinal', 'second')\n",
    "\n",
    "print(\"model['my-data-model'].get('ordinal', None) ->\", end='') \n",
    "print(model['my-data-model'].get('ordinal', None)) \n",
    "print(\"model['my-data-model'].aslist('ordinal') ->   \", end='') \n",
    "print(model['my-data-model'].aslist('ordinal'))\n",
    "print() \n",
    "\n",
    "# Append a value and check again\n",
    "print(\"model['my-data-model'].append('ordinal', 'third')\")\n",
    "model['my-data-model'].append('ordinal', 'third')\n",
    "\n",
    "print(\"model['my-data-model'].get('ordinal', None) ->\", end='') \n",
    "print(model['my-data-model'].get('ordinal', None)) \n",
    "print(\"model['my-data-model'].aslist('ordinal') ->   \", end='') \n",
    "print(model['my-data-model'].aslist('ordinal')) "
   ]
  },
  {
   "cell_type": "markdown",
   "metadata": {
    "deletable": true,
    "editable": true
   },
   "source": [
    "#### File removal to keep Notebook directory clean."
   ]
  },
  {
   "cell_type": "code",
   "execution_count": 16,
   "metadata": {
    "collapsed": true,
    "deletable": true,
    "editable": true
   },
   "outputs": [],
   "source": [
    "os.remove('model.json')\n",
    "os.remove('model.xml')"
   ]
  }
 ],
 "metadata": {
  "kernelspec": {
   "display_name": "Python 3",
   "language": "python",
   "name": "python3"
  },
  "language_info": {
   "codemirror_mode": {
    "name": "ipython",
    "version": 3
   },
   "file_extension": ".py",
   "mimetype": "text/x-python",
   "name": "python",
   "nbconvert_exporter": "python",
   "pygments_lexer": "ipython3",
   "version": "3.6.0"
  }
 },
 "nbformat": 4,
 "nbformat_minor": 2
}
