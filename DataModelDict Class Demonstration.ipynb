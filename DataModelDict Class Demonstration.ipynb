{
 "cells": [
  {
   "cell_type": "markdown",
   "metadata": {},
   "source": [
    "# DataModelDict Class Demonstration\n",
    "\n",
    "The DataModelDict class is used for handling data models that have equivalent representations in XML, JSON, and Python.  Constructing data models in this way is convenient as it supports compatibility across different software tools, such as different types of databases.\n",
    "\n",
    "The DataModelDict class:\n",
    "\n",
    "- is a child of OrderedDict,\n",
    "- has methods for converting to/from XML and JSON, \n",
    "- has methods for searching through elements, and\n",
    "- has methods that help with constructing and interacting with compliant data models.\n",
    "\n",
    "## Designing Compatible Data Models\n",
    "\n",
    "Some considerations need to be taken into account for designing data models that allow for exact reversible transformations between the three formats:\n",
    "\n",
    "- Valid, full XML requires that there is exactly one root element.  In other words, the top-level DataModelDict of a data model   can have only one key.\n",
    "- Do not use lists of lists for representing data.  The XML conversions are only reversible for lists of values or lists of    \n",
    "  dictionaries.  Future updates may allow this.\n",
    "- Avoid using XML attributes if possible.  While the XML conversions do reversibly handle attributes, it complicates the Python\n",
    "  and JSON representations.\n",
    "- Embedded XML content, i.e. \"text with &lt;embed&gt;embedded&lt;/embed&gt; content\", might not be reversible:\n",
    "\n",
    "    - If this is in a Python/JSON value, converting to XML gives \"text with &amp;lt;embed&amp;gt;embedded&amp;lt;/embed&amp;gt; content\". This is reversible.\n",
    "    - If this is an XML text field, parsing to Python pulls the embedded elements out of the text, which is not reversible!\n",
    "\n",
    "- XML subelements of the same name within an element should be given consecutively.  When parsed, all values of subelements of the same name are collected together in a list.  This will alter the original order of subelements if matching names were not originally consecutive. "
   ]
  },
  {
   "cell_type": "markdown",
   "metadata": {},
   "source": [
    "#### Library imports"
   ]
  },
  {
   "cell_type": "code",
   "execution_count": 1,
   "metadata": {},
   "outputs": [
    {
     "name": "stdout",
     "output_type": "stream",
     "text": [
      "DataModelDict version = 0.9.9\n"
     ]
    }
   ],
   "source": [
    "# Standard Python libraries\n",
    "from pathlib import Path\n",
    "import random\n",
    "\n",
    "# DataModelDict class\n",
    "# https://github.com/usnistgov/DataModelDict\n",
    "from DataModelDict import DataModelDict as DM\n",
    "\n",
    "# Print DataModelDict version\n",
    "import DataModelDict\n",
    "print('DataModelDict version =', DataModelDict.__version__)"
   ]
  },
  {
   "cell_type": "markdown",
   "metadata": {},
   "source": [
    "## 1. Class Basics \n",
    "\n",
    "The DataModelDict is a child class of OrderedDict.  As such, is has all the functionality of OrderedDict and more.\n",
    "\n",
    "Here, we construct a multi-level demonstration data model using lists and DataModelDicts."
   ]
  },
  {
   "cell_type": "code",
   "execution_count": 2,
   "metadata": {},
   "outputs": [],
   "source": [
    "# Create an empty DataModel\n",
    "model = DM()\n",
    "\n",
    "# Build model element by element\n",
    "model['my-data-model'] = DM()\n",
    "\n",
    "model['my-data-model']['name'] = 'Demo'\n",
    "model['my-data-model']['author'] = 'Me'\n",
    "\n",
    "model['my-data-model']['process'] = DM()\n",
    "model['my-data-model']['process']['Instrument'] = DM()\n",
    "model['my-data-model']['process']['Instrument']['Name'] = 'Shiny Thing'\n",
    "model['my-data-model']['process']['Instrument']['Model'] = 'Newest Most\\nExpensive'\n",
    "model['my-data-model']['process']['method'] = 'By the book'\n",
    "\n",
    "# Assign multiple elements at once\n",
    "model['my-data-model']['measurement'] = []\n",
    "for temperature in range(0, 2000, 200):\n",
    "    measurement = DM([('temperature', DM([('value', temperature),                    \n",
    "                                          ('unit', 'K')])),\n",
    "                      ('length',      DM([('value', temperature*random.random()/50), \n",
    "                                          ('unit', 'm')]))])\n",
    "    model['my-data-model']['measurement'].append(measurement) "
   ]
  },
  {
   "cell_type": "markdown",
   "metadata": {},
   "source": [
    "## 2. Output Conversion\n",
    "\n",
    "DataModelDict has methods json() and xml() that return the data model as either of these formats. "
   ]
  },
  {
   "cell_type": "markdown",
   "metadata": {},
   "source": [
    "### Conversion from Python to JSON\n",
    "\n",
    "The Python-JSON conversions use the standard Python JSON library.  In converting from Python to JSON, all elements of the DataModelDict must be an instance of a supported data type (with unicode and long being specific to Python 2).\n",
    "\n",
    "\n",
    "| Python           | JSON      |\n",
    "| ---------------- | --------- |\n",
    "| dict             | object    |\n",
    "| list, tuple      | array     |\n",
    "| str, unicode     | string    |\n",
    "| int, long, float | number    |\n",
    "| True             | true      |\n",
    "| False            | false     |\n",
    "| None             | null      |\n",
    "| np.nan           | NaN       |\n",
    "| np.inf           | Infinity  |\n",
    "| -np.inf          | -Infinity |\n",
    "\n",
    "\n",
    "As DataModelDict is a child of OrderedDict, it registers as being an instance of dict. Any other objects would first need to be converted to one of these types, e.g. a numpy array would need to be converted to a list. "
   ]
  },
  {
   "cell_type": "code",
   "execution_count": 3,
   "metadata": {},
   "outputs": [
    {
     "name": "stdout",
     "output_type": "stream",
     "text": [
      "{\n",
      "  \"my-data-model\": {\n",
      "    \"name\": \"Demo\",\n",
      "    \"author\": \"Me\",\n",
      "    \"process\": {\n",
      "      \"Instrument\": {\n",
      "        \"Name\": \"Shiny Thing\",\n",
      "        \"Model\": \"Newest Most\\nExpensive\"\n",
      "      },\n",
      "      \"method\": \"By the book\"\n",
      "    },\n",
      "    \"measurement\": [\n",
      "      {\n",
      "        \"temperature\": {\n",
      "          \"value\": 0,\n",
      "          \"unit\": \"K\"\n",
      "        },\n",
      "        \"length\": {\n",
      "          \"value\": 0.0,\n",
      "          \"unit\": \"m\"\n",
      "        }\n",
      "      },\n",
      "      {\n",
      "        \"temperature\": {\n",
      "          \"value\": 200,\n",
      "          \"unit\": \"K\"\n",
      "        },\n",
      "        \"length\": {\n",
      "          \"value\": 0.6612713953968172,\n",
      "          \"unit\": \"m\"\n",
      "        }\n",
      "      },\n",
      "      {\n",
      "        \"temperature\": {\n",
      "          \"value\": 400,\n",
      "          \"unit\": \"K\"\n",
      "        },\n",
      "        \"length\": {\n",
      "          \"value\": 7.083537152235489,\n",
      "          \"unit\": \"m\"\n",
      "        }\n",
      "      },\n",
      "      {\n",
      "        \"temperature\": {\n",
      "          \"value\": 600,\n",
      "          \"unit\": \"K\"\n",
      "        },\n",
      "        \"length\": {\n",
      "          \"value\": 11.305520882584501,\n",
      "          \"unit\": \"m\"\n",
      "        }\n",
      "      },\n",
      "      {\n",
      "        \"temperature\": {\n",
      "          \"value\": 800,\n",
      "          \"unit\": \"K\"\n",
      "        },\n",
      "        \"length\": {\n",
      "          \"value\": 12.604727521607035,\n",
      "          \"unit\": \"m\"\n",
      "        }\n",
      "      },\n",
      "      {\n",
      "        \"temperature\": {\n",
      "          \"value\": 1000,\n",
      "          \"unit\": \"K\"\n",
      "        },\n",
      "        \"length\": {\n",
      "          \"value\": 13.094139413390137,\n",
      "          \"unit\": \"m\"\n",
      "        }\n",
      "      },\n",
      "      {\n",
      "        \"temperature\": {\n",
      "          \"value\": 1200,\n",
      "          \"unit\": \"K\"\n",
      "        },\n",
      "        \"length\": {\n",
      "          \"value\": 9.881144431029341,\n",
      "          \"unit\": \"m\"\n",
      "        }\n",
      "      },\n",
      "      {\n",
      "        \"temperature\": {\n",
      "          \"value\": 1400,\n",
      "          \"unit\": \"K\"\n",
      "        },\n",
      "        \"length\": {\n",
      "          \"value\": 12.049026119156492,\n",
      "          \"unit\": \"m\"\n",
      "        }\n",
      "      },\n",
      "      {\n",
      "        \"temperature\": {\n",
      "          \"value\": 1600,\n",
      "          \"unit\": \"K\"\n",
      "        },\n",
      "        \"length\": {\n",
      "          \"value\": 27.901342348876334,\n",
      "          \"unit\": \"m\"\n",
      "        }\n",
      "      },\n",
      "      {\n",
      "        \"temperature\": {\n",
      "          \"value\": 1800,\n",
      "          \"unit\": \"K\"\n",
      "        },\n",
      "        \"length\": {\n",
      "          \"value\": 27.455178677784506,\n",
      "          \"unit\": \"m\"\n",
      "        }\n",
      "      }\n",
      "    ]\n",
      "  }\n",
      "}\n"
     ]
    }
   ],
   "source": [
    "# Save DataModelDict as json file\n",
    "jsonfile = Path('model.json')\n",
    "with open(jsonfile, 'w') as f:\n",
    "    model.json(fp=f)\n",
    "\n",
    "# Print the DataModelDict as a json string.\n",
    "print(model.json(indent=2))"
   ]
  },
  {
   "cell_type": "markdown",
   "metadata": {},
   "source": [
    "### Conversion from Python to XML\n",
    "\n",
    "The Python-XML conversions use the xmltodict Python package. The XML content is constructed based on the Python data types \n",
    "\n",
    "| Python           | XML              |\n",
    "| ---------------- | ---------------- |\n",
    "| dict             | subelement       |\n",
    "| list, tuple      | repeated element |\n",
    "| str, unicode     | text             |\n",
    "| int, long, float | text (from repr) |\n",
    "| True             | text = True      |\n",
    "| False            | text = False     |\n",
    "| None             | empty text field |\n",
    "| np.nan           | text = NaN       |\n",
    "| np.inf           | text = Infinity  |\n",
    "| -np.inf          | text = -Infinity |\n",
    "\n",
    "Some characters in the XML text fields will also be converted to avoid conflicts.\n",
    "\n",
    "- XML limited characters such as &lt;, &gt; and &amp; are converted to their HTML entities.\n",
    "- \\n, \\t, \\r are converted to \\\\\\n, \\\\\\t, and \\\\\\r \n",
    "\n",
    "Any dictionary keys starting with '@' will be converted into XML attributes, and the dictionary key '#text' is interpreted as the text value of the element. "
   ]
  },
  {
   "cell_type": "code",
   "execution_count": 4,
   "metadata": {},
   "outputs": [
    {
     "name": "stdout",
     "output_type": "stream",
     "text": [
      "<?xml version=\"1.0\" encoding=\"utf-8\"?>\n",
      "<my-data-model>\n",
      "    <name>Demo</name>\n",
      "    <author>Me</author>\n",
      "    <process>\n",
      "        <Instrument>\n",
      "            <Name>Shiny Thing</Name>\n",
      "            <Model>Newest Most\\nExpensive</Model>\n",
      "        </Instrument>\n",
      "        <method>By the book</method>\n",
      "    </process>\n",
      "    <measurement>\n",
      "        <temperature>\n",
      "            <value>0</value>\n",
      "            <unit>K</unit>\n",
      "        </temperature>\n",
      "        <length>\n",
      "            <value>0.0</value>\n",
      "            <unit>m</unit>\n",
      "        </length>\n",
      "    </measurement>\n",
      "    <measurement>\n",
      "        <temperature>\n",
      "            <value>200</value>\n",
      "            <unit>K</unit>\n",
      "        </temperature>\n",
      "        <length>\n",
      "            <value>0.6612713953968172</value>\n",
      "            <unit>m</unit>\n",
      "        </length>\n",
      "    </measurement>\n",
      "    <measurement>\n",
      "        <temperature>\n",
      "            <value>400</value>\n",
      "            <unit>K</unit>\n",
      "        </temperature>\n",
      "        <length>\n",
      "            <value>7.083537152235489</value>\n",
      "            <unit>m</unit>\n",
      "        </length>\n",
      "    </measurement>\n",
      "    <measurement>\n",
      "        <temperature>\n",
      "            <value>600</value>\n",
      "            <unit>K</unit>\n",
      "        </temperature>\n",
      "        <length>\n",
      "            <value>11.305520882584501</value>\n",
      "            <unit>m</unit>\n",
      "        </length>\n",
      "    </measurement>\n",
      "    <measurement>\n",
      "        <temperature>\n",
      "            <value>800</value>\n",
      "            <unit>K</unit>\n",
      "        </temperature>\n",
      "        <length>\n",
      "            <value>12.604727521607035</value>\n",
      "            <unit>m</unit>\n",
      "        </length>\n",
      "    </measurement>\n",
      "    <measurement>\n",
      "        <temperature>\n",
      "            <value>1000</value>\n",
      "            <unit>K</unit>\n",
      "        </temperature>\n",
      "        <length>\n",
      "            <value>13.094139413390137</value>\n",
      "            <unit>m</unit>\n",
      "        </length>\n",
      "    </measurement>\n",
      "    <measurement>\n",
      "        <temperature>\n",
      "            <value>1200</value>\n",
      "            <unit>K</unit>\n",
      "        </temperature>\n",
      "        <length>\n",
      "            <value>9.881144431029341</value>\n",
      "            <unit>m</unit>\n",
      "        </length>\n",
      "    </measurement>\n",
      "    <measurement>\n",
      "        <temperature>\n",
      "            <value>1400</value>\n",
      "            <unit>K</unit>\n",
      "        </temperature>\n",
      "        <length>\n",
      "            <value>12.049026119156492</value>\n",
      "            <unit>m</unit>\n",
      "        </length>\n",
      "    </measurement>\n",
      "    <measurement>\n",
      "        <temperature>\n",
      "            <value>1600</value>\n",
      "            <unit>K</unit>\n",
      "        </temperature>\n",
      "        <length>\n",
      "            <value>27.901342348876334</value>\n",
      "            <unit>m</unit>\n",
      "        </length>\n",
      "    </measurement>\n",
      "    <measurement>\n",
      "        <temperature>\n",
      "            <value>1800</value>\n",
      "            <unit>K</unit>\n",
      "        </temperature>\n",
      "        <length>\n",
      "            <value>27.455178677784506</value>\n",
      "            <unit>m</unit>\n",
      "        </length>\n",
      "    </measurement>\n",
      "</my-data-model>\n"
     ]
    }
   ],
   "source": [
    "# Save DataModelDict as xml file\n",
    "xmlfile = Path('model.xml')\n",
    "with open(xmlfile, 'w') as f:\n",
    "    model.xml(fp=f)\n",
    "\n",
    "# Print the DataModelDict as an xml string. \n",
    "print(model.xml(indent=4))"
   ]
  },
  {
   "cell_type": "markdown",
   "metadata": {},
   "source": [
    "## 3. Loading Data Models\n",
    "\n",
    "DataModelDict has a load() method that reads in xml or json content. The class initilizer also calls load() if the argument is a string or file-like object. Both work if the supplied argument is:\n",
    "\n",
    "- a string directory path to an xml or json file.\n",
    "\n",
    "- a string containing xml or json content.\n",
    "\n",
    "- an open file-like object containing xml or json content.\n",
    "\n",
    "\n",
    "### Conversion from JSON to Python\n",
    "\n",
    "The Python-JSON conversions use the standard Python JSON library.  In converting from JSON to Python, the conversions of types is straight-forward.\n",
    "\n",
    "| JSON          | Python        |\n",
    "| ------------- | ------------- |\n",
    "| object        | DataModelDict |\n",
    "| array         | list          |\n",
    "| string        | str           |\n",
    "| number (int)  | int           |\n",
    "| number (real) | float         |\n",
    "| true          | True          |\n",
    "| false         | False         |\n",
    "| null          | None          |\n",
    "| NaN           | np.nan        |\n",
    "| Infinity      | np.inf        |\n",
    "| -Infinity     | -np.inf       |\n",
    "\n",
    "### Conversion from XML to Python\n",
    "\n",
    "The Python-XML conversions use the xmltodict Python package.  The text fields will be interpreted based on the following sequential tests:\n",
    "\n",
    "| XML text                                 | Python  |\n",
    "| ---------------------------------------- | ------- |\n",
    "| text == 'True'                           | True    |\n",
    "| text == 'False'                          | False   |\n",
    "| text == ''                               | None    |\n",
    "| text == 'NaN'                            | np.nan  |\n",
    "| text == 'Infinity'                       | np.inf  |\n",
    "| text == '-Infinity'                      | -np.inf |\n",
    "| try int(text) and text == str(int(text)) | int     |\n",
    "| try float(text)                          | float   |\n",
    "| otherwise                                | str     |\n",
    "\n",
    "The reverse conversions are done for the special characters mentioned in the Conversion from Python to XML section above.\n",
    "\n",
    "Any 'attr' attribute fields are converted to elements named '@attr' and corresponding '#text' elements are created if needed."
   ]
  },
  {
   "cell_type": "code",
   "execution_count": 5,
   "metadata": {},
   "outputs": [
    {
     "name": "stdout",
     "output_type": "stream",
     "text": [
      "True\n"
     ]
    }
   ],
   "source": [
    "# Load from xml file during initilization\n",
    "model2 = DM(xmlfile)\n",
    "    \n",
    "# Test that models are equivalent# Load from json file using load()\n",
    "model2 = DM()\n",
    "model2.load(jsonfile)\n",
    "    \n",
    "# Test that models are equivalent\n",
    "print(model.json() == model2.json() and model.xml()  == model2.xml())"
   ]
  },
  {
   "cell_type": "code",
   "execution_count": 6,
   "metadata": {},
   "outputs": [
    {
     "name": "stdout",
     "output_type": "stream",
     "text": [
      "True\n"
     ]
    }
   ],
   "source": [
    "# Load from json file using load()\n",
    "model2 = DM()\n",
    "model2.load(jsonfile)\n",
    "    \n",
    "# Test that models are equivalent\n",
    "print(model.json() == model2.json() and model.xml()  == model2.xml())"
   ]
  },
  {
   "cell_type": "code",
   "execution_count": 7,
   "metadata": {},
   "outputs": [
    {
     "name": "stdout",
     "output_type": "stream",
     "text": [
      "True\n"
     ]
    }
   ],
   "source": [
    "# Load from json string during initilization\n",
    "json_string = model.json()\n",
    "model2 = DM(json_string)\n",
    "    \n",
    "# Test that models are equivalent\n",
    "print(model.json() == model2.json() and model.xml()  == model2.xml())"
   ]
  },
  {
   "cell_type": "code",
   "execution_count": 8,
   "metadata": {},
   "outputs": [
    {
     "name": "stdout",
     "output_type": "stream",
     "text": [
      "True\n"
     ]
    }
   ],
   "source": [
    "# Load from xml string using load()\n",
    "xml_string = model.xml()\n",
    "model2 = DM()       \n",
    "model2.load(xml_string)\n",
    "\n",
    "#test that models are equivalent\n",
    "print(model.json() == model2.json() and model.xml()  == model2.xml())"
   ]
  },
  {
   "cell_type": "markdown",
   "metadata": {},
   "source": [
    "## 4. Finding and Accessing Elements\n",
    "\n",
    "A number of methods have been added to DataModelDict to assist in finding, accessing, and modifying the various elements and subelements of a data model."
   ]
  },
  {
   "cell_type": "markdown",
   "metadata": {},
   "source": [
    "### 4.1 Index with path lists\n",
    "\n",
    "Normally, accessing or setting the values contained in a data model consisting of tiered dictionaries and lists requires knowing the full path list beforehand.  This can be tedious and requires that the programmer hard-code the absolute path of any elements of interest.  To improve upon this, values contained in a DataModelDict can be accessed using a _path list_ consisting of a list of indicies.  The terms in the list can be either dictionary keys or list indicies."
   ]
  },
  {
   "cell_type": "code",
   "execution_count": 9,
   "metadata": {},
   "outputs": [
    {
     "name": "stdout",
     "output_type": "stream",
     "text": [
      "Shiny Thing\n",
      "Shiny Thing\n"
     ]
    }
   ],
   "source": [
    "# Use indexing to retrieve the instrument name in the standard way\n",
    "print(model['my-data-model']['process']['Instrument']['Name'])\n",
    "\n",
    "# Use path list indexing to retrieve the instrument name\n",
    "path = ['my-data-model', 'process', 'Instrument', 'Name']\n",
    "print(model[path])"
   ]
  },
  {
   "cell_type": "markdown",
   "metadata": {},
   "source": [
    "### 4.2 Find value(s) with key\n",
    "\n",
    "If you know the key for an element you are interested in but don't know where it is located in the data model, you can access the element's value using the find(), finds() and iterfinds() methods.  \n",
    "- __find()__ will return a value if the search produces a unique result, and issue an error if no match or multiple matches are found.  \n",
    "- __finds()__ returns a list of all values obtained by the search conditions.\n",
    "- __iterfinds()__ returns an iterator of all values obtained by the search conditions. Use this over finds() if you are only iterating and do not need to store the list."
   ]
  },
  {
   "cell_type": "code",
   "execution_count": 10,
   "metadata": {},
   "outputs": [
    {
     "name": "stdout",
     "output_type": "stream",
     "text": [
      "Shiny Thing\n"
     ]
    }
   ],
   "source": [
    "# There is only one Name field in the whole model\n",
    "print(model.find('Name'))"
   ]
  },
  {
   "cell_type": "code",
   "execution_count": 11,
   "metadata": {},
   "outputs": [
    {
     "name": "stdout",
     "output_type": "stream",
     "text": [
      "0 0.0\n",
      "200 0.6612713953968172\n",
      "400 7.083537152235489\n",
      "600 11.305520882584501\n",
      "800 12.604727521607035\n",
      "1000 13.094139413390137\n",
      "1200 9.881144431029341\n",
      "1400 12.049026119156492\n",
      "1600 27.901342348876334\n",
      "1800 27.455178677784506\n"
     ]
    }
   ],
   "source": [
    "# Iterate over all measurements\n",
    "for measurement in model.iterfinds('measurement'):\n",
    "    print(measurement['temperature']['value'], measurement['length']['value'])"
   ]
  },
  {
   "cell_type": "code",
   "execution_count": 12,
   "metadata": {},
   "outputs": [
    {
     "name": "stdout",
     "output_type": "stream",
     "text": [
      "10 measurements found, with first measurement being:\n",
      "{\n",
      "  \"temperature\": {\n",
      "    \"value\": 0,\n",
      "    \"unit\": \"K\"\n",
      "  },\n",
      "  \"length\": {\n",
      "    \"value\": 0.0,\n",
      "    \"unit\": \"m\"\n",
      "  }\n",
      "}\n"
     ]
    }
   ],
   "source": [
    "# Build a list of measurements\n",
    "measurements = model.finds('measurement')\n",
    "print(len(measurements), \"measurements found, with first measurement being:\")\n",
    "print(measurements[0].json(indent=2))"
   ]
  },
  {
   "cell_type": "markdown",
   "metadata": {},
   "source": [
    "All three find methods allow for additional search conditions using dictionary arguments yes and no.  \n",
    "\n",
    "- __yes__ (*dict*) Key-value terms which the subelement must have to be considered a match.\n",
    "- __no__ (*dict*) Key-value terms which the subelement must not have to be considered a match.  If any key-value pairs listed in no are found in the element, then it is rejected.  "
   ]
  },
  {
   "cell_type": "code",
   "execution_count": 13,
   "metadata": {},
   "outputs": [
    {
     "name": "stdout",
     "output_type": "stream",
     "text": [
      "27.901342348876334\n",
      "9 measurements found not at the indicated temperature\n"
     ]
    }
   ],
   "source": [
    "# Define temperature value to check for\n",
    "temp = DM([('value',1600), ('unit', 'K')])\n",
    "\n",
    "# Find the measurement with the temperature and print the associated length value\n",
    "print(model.find('measurement', yes={'temperature':temp})['length']['value'])\n",
    "\n",
    "# Define temperature value to check for\n",
    "temp = DM([('value', 800), ('unit', 'K')])\n",
    "\n",
    "# Find all measurements that do not have that temperature\n",
    "measurements = model.finds('measurement', no={'temperature':temp})\n",
    "print(len(measurements), \"measurements found not at the indicated temperature\")"
   ]
  },
  {
   "cell_type": "markdown",
   "metadata": {},
   "source": [
    "### 4.3 Find path(s) with key\n",
    "\n",
    "Alternatively, if you want to learn the full path to any elements in unknown locations, you can use the path(), paths() and iterpaths() methods.  These behave similarly to find methods but return path lists instead of values.\n",
    "\n",
    "- __path()__ will return a path if the search produces a unique result, and issue an error if no match or multiple matches are found.  \n",
    "- __paths()__ returns a list of all paths obtained by the search conditions.\n",
    "- __iterpaths()__ returns an iterator of all paths obtained by the search conditions. Use this over paths() if you are only iterating and do not need to store the list."
   ]
  },
  {
   "cell_type": "code",
   "execution_count": 14,
   "metadata": {},
   "outputs": [
    {
     "name": "stdout",
     "output_type": "stream",
     "text": [
      "path: ['my-data-model', 'process', 'Instrument', 'Name']\n",
      "value: Shiny Thing\n"
     ]
    }
   ],
   "source": [
    "# There is only one Name field in the whole model\n",
    "path = model.path('Name')\n",
    "print('path:', path)\n",
    "print('value:', model[path])"
   ]
  },
  {
   "cell_type": "markdown",
   "metadata": {},
   "source": [
    "The path methods also allow for yes and no dictionaries to be used as arguments."
   ]
  },
  {
   "cell_type": "code",
   "execution_count": 15,
   "metadata": {},
   "outputs": [
    {
     "name": "stdout",
     "output_type": "stream",
     "text": [
      "['my-data-model', 'measurement', 0]\n",
      "['my-data-model', 'measurement', 1]\n",
      "['my-data-model', 'measurement', 2]\n",
      "['my-data-model', 'measurement', 3]\n",
      "['my-data-model', 'measurement', 5]\n",
      "['my-data-model', 'measurement', 6]\n",
      "['my-data-model', 'measurement', 7]\n",
      "['my-data-model', 'measurement', 8]\n",
      "['my-data-model', 'measurement', 9]\n"
     ]
    }
   ],
   "source": [
    "for path in model.iterpaths('measurement', no={'temperature':temp}):\n",
    "    print(path)    "
   ]
  },
  {
   "cell_type": "markdown",
   "metadata": {},
   "source": [
    "There are also some basic path manipulation tools in the DataModelDict package that allow for the path to be converted back and forth from lists and delimited strings.  The existing path methods and possible new methods may build on these in the future.\n",
    "\n",
    "- __joinpath()__ takes a path list and converts it into a string.\n",
    "- __parsepath()__ takes a path string and parses it into a list.\n",
    "\n",
    "Both of these take the same optional parameters that specify the delimiting terms used to join/parse the paths\n",
    "- __delimiter__ (*str*) The delimiter between subsequent element names. Default value is '.'.\n",
    "- __openbracket__ (*str*) The opening indicator of list indices. Default value is '\\['.\n",
    "- __closebracket__ (*str*) The closing indicator of list indices. Default value is '\\]'.\n"
   ]
  },
  {
   "cell_type": "code",
   "execution_count": 16,
   "metadata": {},
   "outputs": [
    {
     "name": "stdout",
     "output_type": "stream",
     "text": [
      "['my-data-model', 'measurement', 9]\n",
      "\n",
      "my-data-model.measurement[9]\n",
      "my-data-model/measurement{9}\n",
      "\n",
      "['my-data-model', 'measurement', 9]\n",
      "['my-data-model', 'measurement', 9]\n"
     ]
    }
   ],
   "source": [
    "print(path)\n",
    "print()\n",
    "\n",
    "# Join path with the default values\n",
    "pathstr1 = DataModelDict.joinpath(path)\n",
    "print(pathstr1)\n",
    "\n",
    "# Join path with slashes and {}\n",
    "pathstr2 = DataModelDict.joinpath(path, delimiter='/', openbracket='{', closebracket='}')\n",
    "print(pathstr2)\n",
    "print()\n",
    "\n",
    "# Show that parsepath reverts the string paths to lists when given correct parameters\n",
    "print(DataModelDict.parsepath(pathstr1))\n",
    "print(DataModelDict.parsepath(pathstr2, delimiter='/', openbracket='{', closebracket='}'))"
   ]
  },
  {
   "cell_type": "markdown",
   "metadata": {},
   "source": [
    "### 4.4 Iterate over all value paths\n",
    "\n",
    "There is also an itervaluepaths() method that iterates over the full model and returns the paths to all elements that are values, i.e. not lists or dicts.  This provides a convenient tool for mapping the entire structure of a heavily-embedded model."
   ]
  },
  {
   "cell_type": "code",
   "execution_count": 17,
   "metadata": {},
   "outputs": [
    {
     "data": {
      "text/plain": [
       "{'my-data-model.name': 'Demo',\n",
       " 'my-data-model.author': 'Me',\n",
       " 'my-data-model.process.Instrument.Name': 'Shiny Thing',\n",
       " 'my-data-model.process.Instrument.Model': 'Newest Most\\nExpensive',\n",
       " 'my-data-model.process.method': 'By the book',\n",
       " 'my-data-model.measurement[0].temperature.value': 0,\n",
       " 'my-data-model.measurement[0].temperature.unit': 'K',\n",
       " 'my-data-model.measurement[0].length.value': 0.0,\n",
       " 'my-data-model.measurement[0].length.unit': 'm',\n",
       " 'my-data-model.measurement[1].temperature.value': 200,\n",
       " 'my-data-model.measurement[1].temperature.unit': 'K',\n",
       " 'my-data-model.measurement[1].length.value': 0.6612713953968172,\n",
       " 'my-data-model.measurement[1].length.unit': 'm',\n",
       " 'my-data-model.measurement[2].temperature.value': 400,\n",
       " 'my-data-model.measurement[2].temperature.unit': 'K',\n",
       " 'my-data-model.measurement[2].length.value': 7.083537152235489,\n",
       " 'my-data-model.measurement[2].length.unit': 'm',\n",
       " 'my-data-model.measurement[3].temperature.value': 600,\n",
       " 'my-data-model.measurement[3].temperature.unit': 'K',\n",
       " 'my-data-model.measurement[3].length.value': 11.305520882584501,\n",
       " 'my-data-model.measurement[3].length.unit': 'm',\n",
       " 'my-data-model.measurement[4].temperature.value': 800,\n",
       " 'my-data-model.measurement[4].temperature.unit': 'K',\n",
       " 'my-data-model.measurement[4].length.value': 12.604727521607035,\n",
       " 'my-data-model.measurement[4].length.unit': 'm',\n",
       " 'my-data-model.measurement[5].temperature.value': 1000,\n",
       " 'my-data-model.measurement[5].temperature.unit': 'K',\n",
       " 'my-data-model.measurement[5].length.value': 13.094139413390137,\n",
       " 'my-data-model.measurement[5].length.unit': 'm',\n",
       " 'my-data-model.measurement[6].temperature.value': 1200,\n",
       " 'my-data-model.measurement[6].temperature.unit': 'K',\n",
       " 'my-data-model.measurement[6].length.value': 9.881144431029341,\n",
       " 'my-data-model.measurement[6].length.unit': 'm',\n",
       " 'my-data-model.measurement[7].temperature.value': 1400,\n",
       " 'my-data-model.measurement[7].temperature.unit': 'K',\n",
       " 'my-data-model.measurement[7].length.value': 12.049026119156492,\n",
       " 'my-data-model.measurement[7].length.unit': 'm',\n",
       " 'my-data-model.measurement[8].temperature.value': 1600,\n",
       " 'my-data-model.measurement[8].temperature.unit': 'K',\n",
       " 'my-data-model.measurement[8].length.value': 27.901342348876334,\n",
       " 'my-data-model.measurement[8].length.unit': 'm',\n",
       " 'my-data-model.measurement[9].temperature.value': 1800,\n",
       " 'my-data-model.measurement[9].temperature.unit': 'K',\n",
       " 'my-data-model.measurement[9].length.value': 27.455178677784506,\n",
       " 'my-data-model.measurement[9].length.unit': 'm'}"
      ]
     },
     "execution_count": 17,
     "metadata": {},
     "output_type": "execute_result"
    }
   ],
   "source": [
    "# Construct a flat dict\n",
    "flatdict = {}\n",
    "for path in model.itervaluepaths():\n",
    "    \n",
    "    # Convert path to a string key for dict\n",
    "    pathstr = DataModelDict.joinpath(path)\n",
    "    flatdict[pathstr] = model[path]\n",
    "\n",
    "flatdict"
   ]
  },
  {
   "cell_type": "markdown",
   "metadata": {},
   "source": [
    "## 5. Treatment of Unbounded Sequences\n",
    "\n",
    "When converting from XML there is some ambiguity associated with sequences.  The normal parsing method will convert sequences with one element to single values, and sequences with multiple elements to lists.  To help with this, DataModelDict has a couple methods that allow for the handling of elements that may or may not be lists.\n",
    "\n",
    "The append() method allows for a key-value pair to be added to the DataModelDict.  If the key doesn't already exist, then it is assigned like a regular dictionary.  If the key does exist, the current value is converted into a list if it isn't one and the new value is appended.\n",
    "\n",
    "The aslist() method returns the value(s) associated with a dictionary key as a list, even if it isn't one."
   ]
  },
  {
   "cell_type": "code",
   "execution_count": 18,
   "metadata": {},
   "outputs": [
    {
     "name": "stdout",
     "output_type": "stream",
     "text": [
      "model['my-data-model'].get('ordinal', None) ->None\n",
      "model['my-data-model'].aslist('ordinal') ->   []\n",
      "\n",
      "model['my-data-model'].append('ordinal', 'first')\n",
      "model['my-data-model'].get('ordinal', None) ->first\n",
      "model['my-data-model'].aslist('ordinal') ->   ['first']\n",
      "\n",
      "model['my-data-model'].append('ordinal', 'second')\n",
      "model['my-data-model'].get('ordinal', None) ->['first', 'second']\n",
      "model['my-data-model'].aslist('ordinal') ->   ['first', 'second']\n",
      "\n",
      "model['my-data-model'].append('ordinal', 'third')\n",
      "model['my-data-model'].get('ordinal', None) ->['first', 'second', 'third']\n",
      "model['my-data-model'].aslist('ordinal') ->   ['first', 'second', 'third']\n"
     ]
    }
   ],
   "source": [
    "# Check element value and aslist before key is assigned\n",
    "print(\"model['my-data-model'].get('ordinal', None) ->\", end='') \n",
    "print(model['my-data-model'].get('ordinal', None)) \n",
    "print(\"model['my-data-model'].aslist('ordinal') ->   \", end='') \n",
    "print(model['my-data-model'].aslist('ordinal')) \n",
    "print() \n",
    "\n",
    "# Append a value and check again\n",
    "print(\"model['my-data-model'].append('ordinal', 'first')\")\n",
    "model['my-data-model'].append('ordinal', 'first')\n",
    "\n",
    "print(\"model['my-data-model'].get('ordinal', None) ->\", end='') \n",
    "print(model['my-data-model'].get('ordinal', None))\n",
    "print(\"model['my-data-model'].aslist('ordinal') ->   \", end='') \n",
    "print(model['my-data-model'].aslist('ordinal'))\n",
    "print() \n",
    "\n",
    "# Append a value and check again\n",
    "print(\"model['my-data-model'].append('ordinal', 'second')\")\n",
    "model['my-data-model'].append('ordinal', 'second')\n",
    "\n",
    "print(\"model['my-data-model'].get('ordinal', None) ->\", end='') \n",
    "print(model['my-data-model'].get('ordinal', None)) \n",
    "print(\"model['my-data-model'].aslist('ordinal') ->   \", end='') \n",
    "print(model['my-data-model'].aslist('ordinal'))\n",
    "print() \n",
    "\n",
    "# Append a value and check again\n",
    "print(\"model['my-data-model'].append('ordinal', 'third')\")\n",
    "model['my-data-model'].append('ordinal', 'third')\n",
    "\n",
    "print(\"model['my-data-model'].get('ordinal', None) ->\", end='') \n",
    "print(model['my-data-model'].get('ordinal', None)) \n",
    "print(\"model['my-data-model'].aslist('ordinal') ->   \", end='') \n",
    "print(model['my-data-model'].aslist('ordinal')) "
   ]
  },
  {
   "cell_type": "markdown",
   "metadata": {},
   "source": [
    "#### File removal to keep Notebook directory clean."
   ]
  },
  {
   "cell_type": "code",
   "execution_count": 19,
   "metadata": {},
   "outputs": [],
   "source": [
    "jsonfile.unlink()\n",
    "xmlfile.unlink()"
   ]
  }
 ],
 "metadata": {
  "kernelspec": {
   "display_name": "Python 3 (ipykernel)",
   "language": "python",
   "name": "python3"
  },
  "language_info": {
   "codemirror_mode": {
    "name": "ipython",
    "version": 3
   },
   "file_extension": ".py",
   "mimetype": "text/x-python",
   "name": "python",
   "nbconvert_exporter": "python",
   "pygments_lexer": "ipython3",
   "version": "3.7.10"
  }
 },
 "nbformat": 4,
 "nbformat_minor": 2
}
